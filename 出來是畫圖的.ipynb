{
 "cells": [
  {
   "cell_type": "code",
   "execution_count": null,
   "metadata": {},
   "outputs": [],
   "source": [
    "#隨機畫出50個點\n",
    "import numpy as np\n",
    "import matplotlib.pyplot as pt\n",
    "N=50\n",
    "x=np.random.rand(N)\n",
    "y=np.random.rand(N)\n",
    "pt.scatter(x,y)\n",
    "pt.show"
   ]
  },
  {
   "cell_type": "code",
   "execution_count": null,
   "metadata": {},
   "outputs": [],
   "source": [
    "#隨機畫出一條線\n",
    "import numpy as np\n",
    "import matplotlib.pyplot as pt\n",
    "x=np.arange(0,360)\n",
    "y=np.sin(x*np.pi/180.0)\n",
    "pt.xlim(0,360)\n",
    "pt.ylim(-1.2,1.2)\n",
    "pt.title(\"sin function\")\n",
    "pt.scatter(x,y)\n",
    "pt.show"
   ]
  },
  {
   "cell_type": "code",
   "execution_count": null,
   "metadata": {},
   "outputs": [],
   "source": [
    "#隨機畫出一條線\n",
    "import numpy as np\n",
    "import matplotlib.pyplot as pt\n",
    "x=np.arange(0,360)\n",
    "y=np.sin(x*np.pi/180.0)\n",
    "z=np.cos(x*np.pi/180.0)\n",
    "pt.xlim(0,360)\n",
    "pt.ylim(-1.2,1.2)\n",
    "pt.title(\"sin function\")\n",
    "pt.scatter(x,y,color=\"blue\")\n",
    "pt.scatter(x,z,color=\"purple\")\n",
    "pt.show"
   ]
  },
  {
   "cell_type": "code",
   "execution_count": null,
   "metadata": {},
   "outputs": [],
   "source": [
    "#隨機畫出一條線\n",
    "import numpy as np\n",
    "import matplotlib.pyplot as pt\n",
    "x=np.arange(0,360)\n",
    "y=np.sin(x*np.pi/180.0)\n",
    "z=np.cos(x*np.pi/180.0)\n",
    "pt.xlim(0,360)\n",
    "pt.ylim(-1.2,1.2)\n",
    "pt.title(\"sin function\")\n",
    "pt.scatter(x,y,color=\"blue\")\n",
    "pt.scatter(x,z,color=\"purple\")\n",
    "pt.xlabel(\"degree\")\n",
    "pt.ylabel(\"value\")\n",
    "pt.show"
   ]
  },
  {
   "cell_type": "code",
   "execution_count": null,
   "metadata": {},
   "outputs": [],
   "source": [
    "import numpy as np\n",
    "import matplotlib.pyplot as pt\n",
    "x=[1,2,3,4]\n",
    "pt.plot(x,\"r--\")\n",
    "pt.show"
   ]
  },
  {
   "cell_type": "code",
   "execution_count": null,
   "metadata": {},
   "outputs": [],
   "source": [
    "import numpy as np\n",
    "import matplotlib.pyplot as pt\n",
    "x=[1,2,3,4]\n",
    "y=[3,7,2,6]\n",
    "pt.bar(x,y,label=\"bar chart\")\n",
    "pt.legend()\n",
    "pt.show()"
   ]
  },
  {
   "cell_type": "code",
   "execution_count": null,
   "metadata": {},
   "outputs": [],
   "source": [
    "import matplotlib.pyplot as plt\n",
    "from mpl_toolkits.mplot3d.axes3d import Axes3D\n",
    "import numpy as np\n",
    "from matplotlib import cm\n",
    "\n",
    "\n",
    "def f(x, y):\n",
    "    return np.cos(x**2 + y**2) / (1 + x**2 + y**2)\n",
    "\n",
    "xgrid = np.linspace(-3, 3, 50)\n",
    "ygrid = xgrid\n",
    "x, y = np.meshgrid(xgrid, ygrid)\n",
    "\n",
    "fig = plt.figure(figsize=(8, 6))\n",
    "ax = fig.add_subplot(111, projection='3d')\n",
    "ax.plot_surface(x,\n",
    "                y,\n",
    "                f(x, y),\n",
    "                rstride=2, cstride=2,\n",
    "                cmap=cm.jet,\n",
    "                alpha=0.7,\n",
    "                linewidth=0.25)\n",
    "ax.set_zlim(-0.5, 1.0)\n",
    "plt.show()"
   ]
  },
  {
   "cell_type": "code",
   "execution_count": null,
   "metadata": {},
   "outputs": [],
   "source": [
    "from sklearn import datasets, cluster, metrics\n",
    "import matplotlib.pyplot as pt\n",
    "iris=datasets.load_iris()\n",
    "iris_X=iris.data\n",
    "\n",
    "ks=range(2,11)\n",
    "silhouette_avgs=[]\n",
    "\n",
    "for n in ks :\n",
    "    \n",
    "    result=cluster.KMeans(n_clusters=n).fit(iris_X)\n",
    "    silhouette_avg=metrics.silhouette_score(iris_X, result.labels_)\n",
    "    silhouette_avgs.append(silhouette_avg)\n",
    "pt.bar(ks,silhouette_avgs)\n",
    "pt.show()"
   ]
  },
  {
   "cell_type": "code",
   "execution_count": null,
   "metadata": {},
   "outputs": [],
   "source": [
    "from sklearn import datasets\n",
    "import matplotlib.pyplot as plt\n",
    "digits=datasets.load_digits()\n",
    "plt.figure(1, figsize=(3,3))\n",
    "plt.imshow(digits.images[0], cmap=plt.cm.gray_r, interpolation='nearest')\n",
    "plt.show()"
   ]
  },
  {
   "cell_type": "code",
   "execution_count": null,
   "metadata": {},
   "outputs": [],
   "source": [
    "from sklearn import datasets, cluster, metrics\n",
    "from sklearn import svm\n",
    "from sklearn.cross_validation import train_test_split\n",
    "import matplotlib.pyplot as plt\n",
    "\n",
    "digits=datasets.load_digits()\n",
    "#X為資料,y為分類結果,images為影像檔,三者都要分成train(訓練資料)與test(測試資料)\n",
    "#75%=0.75為訓練資料,25%=0.25為測試資料,random_state為亂數起值\n",
    "X_train, X_test, y_train, y_test, images_train, images_test = train_test_split(digits.data, digits.target, digits.images, test_size=0.25, random_state=42)\n",
    "\n",
    "svc_model = svm.SVC(gamma=0.001, C=100. , kernel='linear')\n",
    "svc_model.fit(X_train, y_train)\n",
    "predicted=svc_model.predict(X_test)\n",
    "#以下為畫圖\n",
    "images_and_predictions = list(zip(images_test, predicted))\n",
    "for index, (image, prediction) in enumerate(images_and_predictions[:4]):\n",
    "    plt.subplot(1, 4, index + 1)\n",
    "    plt.axis('off')\n",
    "    plt.imshow(image, cmap=plt.cm.binary)\n",
    "    plt.title('Predicted: ' + str(prediction))\n",
    "plt.show()"
   ]
  },
  {
   "cell_type": "code",
   "execution_count": null,
   "metadata": {},
   "outputs": [],
   "source": [
    "from sklearn import datasets\n",
    "import matplotlib.pyplot as plt\n",
    "data=datasets.fetch_olivetti_faces()\n",
    "#print(data.DESCR)\n",
    "#print(data.target)\n",
    "#print(data.data)\n",
    "plt.imshow(data.images[6],cmap='gray',interpolation='nearest')\n",
    "plt.show()"
   ]
  },
  {
   "cell_type": "code",
   "execution_count": null,
   "metadata": {},
   "outputs": [],
   "source": [
    "#把影像變成一列\n",
    "data=data.images.reshape(len(data.images),-1)\n",
    "target=data.target\n",
    "train=data[target<30]\n",
    "test=data[target>30]\n",
    "#從100張測試影像中，亂數選5張出來，變數test的大小變成(5,4096)\n",
    "n_faces=5\n",
    "from sklearn.utils import check_random_state\n",
    "rng=check_random_state(4)\n",
    "face_ids=rng.randint(test.shape[0], size=(n_faces, ))\n",
    "test=test[face_ids, :]"
   ]
  }
 ],
 "metadata": {
  "kernelspec": {
   "display_name": "Python 3",
   "language": "python",
   "name": "python3"
  },
  "language_info": {
   "codemirror_mode": {
    "name": "ipython",
    "version": 3
   },
   "file_extension": ".py",
   "mimetype": "text/x-python",
   "name": "python",
   "nbconvert_exporter": "python",
   "pygments_lexer": "ipython3",
   "version": "3.6.4"
  }
 },
 "nbformat": 4,
 "nbformat_minor": 2
}
